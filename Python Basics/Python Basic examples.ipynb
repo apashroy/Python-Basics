{
 "cells": [
  {
   "cell_type": "code",
   "execution_count": 17,
   "id": "9e4d0c10-66e5-4a9e-8be9-3813d722b037",
   "metadata": {},
   "outputs": [
    {
     "name": "stdout",
     "output_type": "stream",
     "text": [
      "**********\n",
      "*********\n",
      "********\n",
      "*******\n",
      "******\n",
      "*****\n",
      "****\n",
      "***\n",
      "**\n",
      "*\n",
      "**\n",
      "***\n",
      "****\n",
      "*****\n",
      "******\n",
      "*******\n",
      "********\n",
      "*********\n",
      "**********\n"
     ]
    }
   ],
   "source": [
    "n=10\n",
    "for i in range (n,0,-1):\n",
    "    for j in range(i):\n",
    "        print(\"*\", end=\"\")\n",
    "    print(\"\\n\", end=\"\")\n",
    "for i in range (2,n+1):\n",
    "    for j in range(i):\n",
    "        print(\"*\", end=\"\")\n",
    "    print(\"\\n\", end=\"\")"
   ]
  },
  {
   "cell_type": "code",
   "execution_count": null,
   "id": "33c1b7ef-6b63-49c6-88d0-29e8ae7b0588",
   "metadata": {},
   "outputs": [],
   "source": []
  },
  {
   "cell_type": "code",
   "execution_count": null,
   "id": "48107bd7-df07-43e7-9ca5-fb6a2ec832fc",
   "metadata": {},
   "outputs": [],
   "source": []
  },
  {
   "cell_type": "code",
   "execution_count": null,
   "id": "10741a41-b239-4a98-9471-d16d15212932",
   "metadata": {},
   "outputs": [],
   "source": []
  },
  {
   "cell_type": "code",
   "execution_count": 20,
   "id": "c5ff5002-49f0-489e-829f-dc053770e4ac",
   "metadata": {},
   "outputs": [
    {
     "name": "stdout",
     "output_type": "stream",
     "text": [
      "\n",
      " * \n",
      " * * \n",
      " * * * \n",
      " * * * * \n",
      " * * * * * \n",
      " * * * * * * \n",
      " * * * * * \n",
      " * * * * \n",
      " * * * \n",
      " * * \n",
      " * \n",
      " "
     ]
    }
   ],
   "source": [
    "n=5\n",
    "for i in range (n+1):\n",
    "    for j in range(i):\n",
    "        print(\"*\", end=\" \")\n",
    "    print(\"\\n\", end=\" \")\n",
    "for i in range (n+1,0,-1):\n",
    "    for j in range(i):\n",
    "        print(\"*\", end=\" \")\n",
    "    print(\"\\n\", end=\" \")"
   ]
  },
  {
   "cell_type": "code",
   "execution_count": null,
   "id": "34acc681-7747-48e4-ae98-3f7e74d00273",
   "metadata": {},
   "outputs": [],
   "source": [
    "n=5\n",
    "for i in range (n+1):\n",
    "    for j in range(i):\n",
    "        print(\"*\", end=\" \")\n",
    "    print(\"\\n\", end=\" \")"
   ]
  },
  {
   "cell_type": "code",
   "execution_count": 26,
   "id": "ac534660-c020-45fb-aa7a-281a4c04f468",
   "metadata": {},
   "outputs": [
    {
     "name": "stdin",
     "output_type": "stream",
     "text": [
      "enter a number  1\n",
      "enter a number  2\n"
     ]
    },
    {
     "name": "stdout",
     "output_type": "stream",
     "text": [
      "Second number  2 is greater!\n"
     ]
    }
   ],
   "source": [
    "#find the greter between two integers\n",
    "a=int(input(\"Enter a number \"))\n",
    "b=int(input(\"Enter another number \"))\n",
    "if a>b:\n",
    "    print(\"First number is greater!\")\n",
    "else:\n",
    "    print(\"Second number \", b , \"is greater!\")"
   ]
  },
  {
   "cell_type": "code",
   "execution_count": 27,
   "id": "255ff653-dbdd-49bb-8831-870dc4840cf6",
   "metadata": {},
   "outputs": [
    {
     "name": "stdin",
     "output_type": "stream",
     "text": [
      "Enter number: 121\n"
     ]
    },
    {
     "name": "stdout",
     "output_type": "stream",
     "text": [
      "The number is a palindrome!\n"
     ]
    }
   ],
   "source": [
    "#check the number is palindrome number or not \n",
    "#[same from frward and backward- 121, madam, ..]\n",
    "n=int(input(\"Enter number:\"))\n",
    "temp=n\n",
    "rev=0\n",
    "while(n>0):\n",
    "    dig=n%10\n",
    "    rev=rev*10+dig\n",
    "    n=n//10\n",
    "if(temp==rev):\n",
    "    print(\"The number is a palindrome!\")\n",
    "else:\n",
    "    print(\"The number isn't a palindrome!\")"
   ]
  },
  {
   "cell_type": "code",
   "execution_count": 28,
   "id": "cafad599-289b-4a23-a8da-f7263f501b2b",
   "metadata": {},
   "outputs": [
    {
     "name": "stdout",
     "output_type": "stream",
     "text": [
      "1 \n",
      "2 2 \n",
      "3 3 3 \n",
      "4 4 4 4 \n"
     ]
    }
   ],
   "source": [
    "for i in range(1, 5):\n",
    "    for j in range(i):\n",
    "        print(i, end=' ')\n",
    "    print()"
   ]
  },
  {
   "cell_type": "code",
   "execution_count": 30,
   "id": "a4ce38cf-ac15-47a4-bd1e-873209691d90",
   "metadata": {},
   "outputs": [
    {
     "name": "stdout",
     "output_type": "stream",
     "text": [
      "0 1 2 \n",
      "0 1 2 \n",
      "0 1 2 \n",
      "0 1 2 \n",
      "0 1 2 \n"
     ]
    }
   ],
   "source": [
    "for i in range(5):\n",
    "    for j in range(3):\n",
    "        print(j,end=' ')\n",
    "    print('\\n',end='')"
   ]
  },
  {
   "cell_type": "code",
   "execution_count": 42,
   "id": "668d002b-cbb8-4ee1-ad6b-3cfe328ec2b7",
   "metadata": {},
   "outputs": [
    {
     "name": "stdout",
     "output_type": "stream",
     "text": [
      "10 8 6 4 2 "
     ]
    }
   ],
   "source": [
    "for i in range(10,1, -2):\n",
    "    print(i, end=' ')"
   ]
  },
  {
   "cell_type": "code",
   "execution_count": 48,
   "id": "c7cd41ea-183a-4819-a735-0cfca9fe348c",
   "metadata": {},
   "outputs": [
    {
     "name": "stdin",
     "output_type": "stream",
     "text": [
      "Enter a number:  12\n"
     ]
    },
    {
     "name": "stdout",
     "output_type": "stream",
     "text": [
      "The given number is:  12 Is it right?\n"
     ]
    }
   ],
   "source": [
    "a=int(input(\"Enter a number: \"))\n",
    "print(\"The given number is: \",a, \"Is it right?\")"
   ]
  },
  {
   "cell_type": "markdown",
   "id": "22ab57f7-5cca-45e3-ac59-8166de55caaf",
   "metadata": {},
   "source": [
    "Execute the expression: \n",
    "10X+5"
   ]
  },
  {
   "cell_type": "code",
   "execution_count": 49,
   "id": "0dafa94b-22d8-483c-88a3-7617e993d150",
   "metadata": {},
   "outputs": [
    {
     "name": "stdin",
     "output_type": "stream",
     "text": [
      "enter the value of X:  2\n"
     ]
    },
    {
     "name": "stdout",
     "output_type": "stream",
     "text": [
      "Result=  25\n"
     ]
    }
   ],
   "source": [
    "x=int(input(\"enter the value of X: \"))\n",
    "r=10*x+5\n",
    "print(\"Result= \",r)"
   ]
  },
  {
   "cell_type": "code",
   "execution_count": null,
   "id": "3a6c4d2d-5c12-4db4-b0d8-3d31027c044b",
   "metadata": {},
   "outputs": [],
   "source": [
    "x= int (input(\"enter the total marks scored in class X\"))\n",
    "y= int (input(\"enter the total marks scored in class XII\"))\n",
    "a= int (input(\"enter the full marks scorable in class X\"))\n",
    "b= int (input(\"enter the full marks scorable in class XII\"))\n",
    "print (\"% scored in class X= \", x/a*100)\n",
    "print (\"% scored in class XII= \", y/b*100)"
   ]
  },
  {
   "cell_type": "code",
   "execution_count": 58,
   "id": "3c426085-00e8-40ab-9a65-c351df6f5467",
   "metadata": {},
   "outputs": [
    {
     "name": "stdout",
     "output_type": "stream",
     "text": [
      "A\n"
     ]
    }
   ],
   "source": [
    "a = True\n",
    "b = False\n",
    "c = False\n",
    "if (a or b and c):\n",
    "    print(\"A\")\n",
    "else:\n",
    "    print(\"B\")"
   ]
  },
  {
   "cell_type": "code",
   "execution_count": 4,
   "id": "fdd19372-f366-4ff3-95be-452456da6396",
   "metadata": {},
   "outputs": [
    {
     "name": "stdout",
     "output_type": "stream",
     "text": [
      "1  2  "
     ]
    }
   ],
   "source": [
    "i = 1\n",
    "while True:\n",
    "    if i%3 == 0:\n",
    "        break\n",
    "    print(i, end='  ')\n",
    "    i = i+1"
   ]
  },
  {
   "cell_type": "code",
   "execution_count": 1,
   "id": "a2abfcb4-e217-4f79-a6bc-872447119205",
   "metadata": {},
   "outputs": [
    {
     "name": "stdin",
     "output_type": "stream",
     "text": [
      "Emter thenumber of novels she have:  12\n"
     ]
    },
    {
     "name": "stdout",
     "output_type": "stream",
     "text": [
      "Number or Poetry Book She has  19\n"
     ]
    }
   ],
   "source": [
    "n=int(input(\"Emter thenumber of novels she have: \"))\n",
    "\n",
    "\n",
    "#print(\"Number or Novelsshe have: \", n)\n",
    "p=2*n-5\n",
    "print(\"Number or Poetry Book She has \",p)"
   ]
  },
  {
   "cell_type": "code",
   "execution_count": 5,
   "id": "09f0a4c5-85d8-4dda-9c92-9efb16942efb",
   "metadata": {},
   "outputs": [
    {
     "name": "stdin",
     "output_type": "stream",
     "text": [
      "Emter the numberof lines  4\n"
     ]
    },
    {
     "name": "stdout",
     "output_type": "stream",
     "text": [
      "\n",
      "\n",
      " * \n",
      "\n",
      " *  * \n",
      "\n",
      " *  *  * \n",
      "\n",
      " *  *  *  * \n",
      "\n"
     ]
    }
   ],
   "source": [
    "n=int(input(\"Emter the numberof lines \"))\n",
    "for i in range(n+1):\n",
    "    for j in range(i):\n",
    "        print(\" * \", end=\"\")\n",
    "    print(\"\\n\")"
   ]
  },
  {
   "cell_type": "code",
   "execution_count": 10,
   "id": "95ed68cb-ea52-4f53-ab4f-3ed3f02945e5",
   "metadata": {},
   "outputs": [
    {
     "name": "stdout",
     "output_type": "stream",
     "text": [
      "-5\n",
      "-4\n",
      "-3\n",
      "-2\n",
      "-1\n"
     ]
    }
   ],
   "source": [
    "for num in range(-5, 0):\n",
    "  print(num)"
   ]
  },
  {
   "cell_type": "code",
   "execution_count": 14,
   "id": "be0d0243-0891-4713-86ca-7aa0628401ca",
   "metadata": {},
   "outputs": [
    {
     "name": "stdout",
     "output_type": "stream",
     "text": [
      "hsapA\n"
     ]
    }
   ],
   "source": [
    "s=\"Apash\"\n",
    "print(s[::-1])"
   ]
  },
  {
   "cell_type": "code",
   "execution_count": 16,
   "id": "df611f8d-4da5-4ff7-9f9d-de9185723f0e",
   "metadata": {},
   "outputs": [
    {
     "name": "stdout",
     "output_type": "stream",
     "text": [
      "Vowels in the given text is: 5\n"
     ]
    }
   ],
   "source": [
    "s=\"aeiou\"\n",
    "v=0\n",
    "V=['a','e','i','o','u','A','E','I','O','U']\n",
    "for i in s:\n",
    "    if i in V:\n",
    "        v=v+1\n",
    "print(\"Vowels in the given text is:\", v)\n"
   ]
  },
  {
   "cell_type": "code",
   "execution_count": 12,
   "id": "fc69c2ef-ba3f-4c8d-a8a2-58c12200f9fc",
   "metadata": {},
   "outputs": [
    {
     "name": "stdin",
     "output_type": "stream",
     "text": [
      "Enter a number:  153\n"
     ]
    },
    {
     "name": "stdout",
     "output_type": "stream",
     "text": [
      "3\n",
      "5\n",
      "1\n",
      "The Number is Amstrong Number\n",
      "S=  153\n"
     ]
    }
   ],
   "source": [
    "n=int(input(\"Enter a number: \")) #input the number\n",
    "t=n #store the number in temorary variable t\n",
    "s=0\n",
    "while (n!=0):\n",
    "    print(n%10) #calculate the digits\n",
    "    s=s+((n%10)**3) # calculate the sum of qubeof the digits\n",
    "    n=n//10 #calculate the remaining n\n",
    "if t==s:\n",
    "    print(\"The Number is Amstrong Number\")\n",
    "else:\n",
    "    print(\"The Number is NOT Amstrong Number\")\n",
    "print(\"S= \", s)"
   ]
  },
  {
   "cell_type": "code",
   "execution_count": 3,
   "id": "30188313-e04e-4173-a105-eed27c50dccb",
   "metadata": {},
   "outputs": [
    {
     "name": "stdout",
     "output_type": "stream",
     "text": [
      "['Hi', 'Hi', 'Hi', 'Hi']\n"
     ]
    }
   ],
   "source": [
    "\n",
    "print([\"Hi\"]*4)"
   ]
  },
  {
   "cell_type": "code",
   "execution_count": 19,
   "id": "ff5638d1-a86d-4ad6-8240-837fd18b7b5d",
   "metadata": {},
   "outputs": [
    {
     "ename": "TypeError",
     "evalue": "'>' not supported between instances of 'str' and 'int'",
     "output_type": "error",
     "traceback": [
      "\u001b[1;31m---------------------------------------------------------------------------\u001b[0m",
      "\u001b[1;31mTypeError\u001b[0m                                 Traceback (most recent call last)",
      "\u001b[1;32m~\\AppData\\Local\\Temp/ipykernel_4232/3641743295.py\u001b[0m in \u001b[0;36m<module>\u001b[1;34m\u001b[0m\n\u001b[0;32m      2\u001b[0m \u001b[1;31m#print(S[1::1])\u001b[0m\u001b[1;33m\u001b[0m\u001b[1;33m\u001b[0m\u001b[1;33m\u001b[0m\u001b[0m\n\u001b[0;32m      3\u001b[0m \u001b[1;32mfor\u001b[0m \u001b[0mi\u001b[0m \u001b[1;32min\u001b[0m \u001b[0mS\u001b[0m\u001b[1;33m:\u001b[0m\u001b[1;33m\u001b[0m\u001b[1;33m\u001b[0m\u001b[0m\n\u001b[1;32m----> 4\u001b[1;33m     \u001b[1;32mif\u001b[0m \u001b[0mi\u001b[0m\u001b[1;33m>\u001b[0m\u001b[1;36m0\u001b[0m\u001b[1;33m:\u001b[0m\u001b[1;33m\u001b[0m\u001b[1;33m\u001b[0m\u001b[0m\n\u001b[0m\u001b[0;32m      5\u001b[0m         \u001b[0mprint\u001b[0m\u001b[1;33m(\u001b[0m\u001b[0mi\u001b[0m\u001b[1;33m,\u001b[0m \u001b[0mend\u001b[0m\u001b[1;33m=\u001b[0m\u001b[1;34m\"\"\u001b[0m\u001b[1;33m)\u001b[0m\u001b[1;33m\u001b[0m\u001b[1;33m\u001b[0m\u001b[0m\n",
      "\u001b[1;31mTypeError\u001b[0m: '>' not supported between instances of 'str' and 'int'"
     ]
    }
   ],
   "source": [
    "S=\"abcd\"\n",
    "#print(S[1::1])\n",
    "for i in S:\n",
    "    if i>0:\n",
    "        print(i, end=\"\")"
   ]
  },
  {
   "cell_type": "code",
   "execution_count": null,
   "id": "ba30d1ca-a489-4af3-9d3c-b53c3d0b38da",
   "metadata": {},
   "outputs": [],
   "source": []
  }
 ],
 "metadata": {
  "kernelspec": {
   "display_name": "Python 3 (ipykernel)",
   "language": "python",
   "name": "python3"
  },
  "language_info": {
   "codemirror_mode": {
    "name": "ipython",
    "version": 3
   },
   "file_extension": ".py",
   "mimetype": "text/x-python",
   "name": "python",
   "nbconvert_exporter": "python",
   "pygments_lexer": "ipython3",
   "version": "3.8.7"
  }
 },
 "nbformat": 4,
 "nbformat_minor": 5
}
